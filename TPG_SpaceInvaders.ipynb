{
 "cells": [
  {
   "cell_type": "markdown",
   "metadata": {},
   "source": [
    "# This notebook is laid out as follows:\n",
    "## 1) A cell of imports. First, run it and make sure all dependancies are installed.\n",
    "## 2) The default methods needed to run the example code.\n",
    "## 3) A series of experiments, with the following layout:\n",
    "          a) Definition of a preprocessing method, where relevant\n",
    "          b) A cell vizualizing the preprocessing stage.\n",
    "          c) A cell initializing a monitor-wrapped environment.\n",
    "          d) A cell running TPG in the environment with teams of 100 for 100 generations.\n",
    "          e) A simple plot showing the average score over generation.\n",
    "## 4) A plot charting the performance of each experiment.\n",
    "\n",
    "### The experiments are conducted in the following order:\n",
    "        1) Default settings. Uses the red channel of the environment as the state. This is a replica of Ryan\n",
    "           Amaral's example, modified to use a monitor wrapper instead of rendering the game in the notebook.\n",
    "        2) Preprocessing variant 1. The state is preprocessed to be a condensed, grayscale version of the \n",
    "           original state.\n",
    "        3) Preprocessing variant 2. The state is preprocessed by cropping 'irrelevant' features of the game \n",
    "           screen and then converting all colored pixels to simply have the value '1'.\n",
    "        4) Frame Differential as state. The state is preprocessed using variant 2. Then, the previous state is \n",
    "           subtracted from it. The difference between states is passed to the agent.\n",
    "        5) Convolutional preprocessing. The state is convolved with an edge detector kernel prior to being \n",
    "           passed to the agent.\n",
    "### Running the notebook will create a folder for each experiment containing metadata and video. It will also create a file that stores the run time and score results of each experiment."
   ]
  },
  {
   "cell_type": "code",
   "execution_count": 76,
   "metadata": {},
   "outputs": [],
   "source": [
    "#Run this block to make sure you have the dependancies installed\n",
    "#Anything that doesn't work can usually be resolved using pip\n",
    "import tpg\n",
    "import numpy as np\n",
    "import matplotlib.pyplot as plt\n",
    "import gym\n",
    "import gym.spaces\n",
    "from gym import wrappers\n",
    "from tpg.tpg_trainer import TpgTrainer\n",
    "from tpg.tpg_agent import TpgAgent\n",
    "import time\n",
    "from IPython import display\n",
    "from scipy import misc\n",
    "import scipy.signal as sp\n",
    "from skimage import color\n",
    "from skimage import transform\n",
    "import pickle\n",
    "\n",
    "results = [] #A list to store the run times and scores of each run "
   ]
  },
  {
   "cell_type": "code",
   "execution_count": 2,
   "metadata": {},
   "outputs": [],
   "source": [
    "#functions for rendering over Jupyter as used in Ryan Ameral's example\n",
    "def show_state(env, step=0, name='', info=''):\n",
    "    plt.figure(3)\n",
    "    plt.clf()\n",
    "    plt.imshow(env.render(mode='rgb_array'))\n",
    "    plt.title(\"%s | Step: %d %s\" % (name, step, info))\n",
    "    plt.axis('off')\n",
    "    display.clear_output(wait=True)\n",
    "    display.display(plt.gcf())\n",
    "    \n",
    "#uses only red instead of RGB\n",
    "def getState(state):\n",
    "    state2 = []\n",
    "    for x in state:\n",
    "        for y in x:\n",
    "            state2.append(y[0])\n",
    "            \n",
    "    return state2\n",
    "#NOTE: I never use this function outside of the default example. I use preprocess() instead"
   ]
  },
  {
   "cell_type": "code",
   "execution_count": 81,
   "metadata": {},
   "outputs": [
    {
     "data": {
      "image/png": "[encoded data removed]",
      "text/plain": [
       "<Figure size 432x288 with 2 Axes>"
      ]
     },
     "metadata": {},
     "output_type": "display_data"
    }
   ],
   "source": [
    "#Show what the showState function does.\n",
    "testEnv = gym.make('SpaceInvaders-v0')\n",
    "testState = testEnv.reset()\n",
    "testState,a,b,c = testEnv.step(1)\n",
    "\n",
    "redLayer = getState(testState)\n",
    "redLayer = np.reshape(redLayer, (210, 160,))\n",
    "\n",
    "plt.figure(1)\n",
    "plt.subplot(121)\n",
    "plt.imshow(testState)\n",
    "plt.subplot(122)\n",
    "plt.imshow(redLayer)\n",
    "plt.show()"
   ]
  },
  {
   "cell_type": "markdown",
   "metadata": {},
   "source": [
    "**The follwing is the most basic implementation. \n",
    "It a basic generational selection procedure for the Space Invaders game based on visual input.\n",
    "As is common practice in computer vision, RGB images have been downsized to one channel."
   ]
  },
  {
   "cell_type": "code",
   "execution_count": 57,
   "metadata": {},
   "outputs": [
    {
     "name": "stdout",
     "output_type": "stream",
     "text": [
      "Discrete(6)\n"
     ]
    }
   ],
   "source": [
    "#build openAI gym environment and print the size of the action space\n",
    "env = gym.make('SpaceInvaders-v0')\n",
    "#wrap the env object so that we can save video of the learning process :)\n",
    "#note that this will end up saving to the directory which the code is saved in\n",
    "env = wrappers.Monitor(env, './videos/space-invaders-experiment1-default-settings', force=True)\n",
    "print(env.action_space)"
   ]
  },
  {
   "cell_type": "code",
   "execution_count": 58,
   "metadata": {},
   "outputs": [
    {
     "name": "stdout",
     "output_type": "stream",
     "text": [
      "Generation  0\n",
      "Generation  1\n",
      "Generation  2\n",
      "Generation  3\n",
      "Generation  4\n",
      "Generation  5\n",
      "Generation  6\n",
      "Generation  7\n",
      "Generation  8\n",
      "Generation  9\n",
      "Generation  10\n",
      "Generation  11\n",
      "Generation  12\n",
      "Generation  13\n",
      "Generation  14\n",
      "Generation  15\n",
      "Generation  16\n",
      "Generation  17\n",
      "Generation  18\n",
      "Generation  19\n",
      "Generation  20\n",
      "Generation  21\n",
      "Generation  22\n",
      "Generation  23\n",
      "Generation  24\n",
      "Generation  25\n",
      "Generation  26\n",
      "Generation  27\n",
      "Generation  28\n",
      "Generation  29\n",
      "Generation  30\n",
      "Generation  31\n",
      "Generation  32\n",
      "Generation  33\n",
      "Generation  34\n",
      "Generation  35\n",
      "Generation  36\n",
      "Generation  37\n",
      "Generation  38\n",
      "Generation  39\n",
      "Generation  40\n",
      "Generation  41\n",
      "Generation  42\n",
      "Generation  43\n",
      "Generation  44\n",
      "Generation  45\n",
      "Generation  46\n",
      "Generation  47\n",
      "Generation  48\n",
      "Generation  49\n",
      "Time Taken (Seconds): 1653.9391448497772\n",
      "Results:\n",
      "Min, Max, Avg\n",
      "0.0 70.0 19.0\n",
      "0.0 105.0 34.583333333333336\n",
      "0.0 90.0 40.79545454545455\n",
      "0.0 105.0 45.32608695652174\n",
      "0.0 230.0 58.375\n",
      "0.0 230.0 57.073170731707314\n",
      "0.0 265.0 67.55813953488372\n",
      "0.0 265.0 65.3409090909091\n",
      "0.0 265.0 69.0\n",
      "0.0 265.0 78.17073170731707\n",
      "0.0 200.0 64.07894736842105\n",
      "0.0 265.0 81.28205128205128\n",
      "0.0 265.0 74.73684210526316\n",
      "0.0 265.0 83.51351351351352\n",
      "0.0 275.0 85.0\n",
      "0.0 275.0 94.1891891891892\n",
      "0.0 275.0 86.21212121212122\n",
      "0.0 275.0 87.02702702702703\n",
      "0.0 275.0 93.64864864864865\n",
      "0.0 320.0 86.15384615384616\n",
      "0.0 320.0 96.78571428571429\n",
      "0.0 320.0 105.13157894736842\n",
      "0.0 320.0 111.62162162162163\n",
      "0.0 275.0 98.47222222222223\n",
      "0.0 320.0 97.22222222222223\n",
      "0.0 270.0 100.85714285714286\n",
      "0.0 345.0 114.14285714285714\n",
      "0.0 345.0 110.13888888888889\n",
      "0.0 345.0 114.58333333333333\n",
      "0.0 345.0 108.55263157894737\n",
      "0.0 345.0 111.08108108108108\n",
      "0.0 345.0 115.39473684210526\n",
      "0.0 345.0 112.02702702702703\n",
      "0.0 345.0 123.91891891891892\n",
      "0.0 345.0 115.60606060606061\n",
      "0.0 345.0 130.0\n",
      "0.0 345.0 131.0\n",
      "0.0 345.0 107.77777777777777\n",
      "0.0 345.0 121.52777777777777\n",
      "0.0 320.0 107.5\n",
      "0.0 345.0 127.57142857142857\n",
      "0.0 345.0 126.91176470588235\n",
      "0.0 345.0 117.14285714285714\n",
      "0.0 345.0 133.78378378378378\n",
      "0.0 345.0 110.71428571428571\n",
      "0.0 345.0 126.94444444444444\n",
      "0.0 345.0 127.42857142857143\n",
      "0.0 345.0 120.92105263157895\n",
      "0.0 345.0 129.21052631578948\n",
      "0.0 320.0 122.36111111111111\n"
     ]
    }
   ],
   "source": [
    "#First run: A simple replica of Ryan Amaral's example, modified to use the monitor wrapper.\n",
    "#Also modified to not render, resulting in significantly improved run time.\n",
    "\n",
    "#used to track time\n",
    "tStart = time.time()\n",
    "\n",
    "# first create an instance of the TpgTrainer\n",
    "# this creates the whole population and everything\n",
    "trainer = TpgTrainer(actions=range(6), teamPopSize=100)\n",
    "\n",
    "curScores = [] # hold scores in a generation\n",
    "summaryScores = [] # record score summaries for each gen (min, max, avg)\n",
    "\n",
    "isDone = True\n",
    "#Try running for 20 gens and see how long it takes.\n",
    "for gen in range(100): # generation loop\n",
    "    curScores = [] # new list per gen\n",
    "    print(\"Generation \",gen)\n",
    "    while True: # loop to go through agents\n",
    "        teamNum = trainer.remainingAgents()\n",
    "        agent = trainer.getNextAgent()\n",
    "        if agent is None:\n",
    "            break # no more agents, so proceed to next gen\n",
    "        \n",
    "        # check if agent already has score\n",
    "        if agent.taskDone():\n",
    "            score = agent.getOutcome()\n",
    "        else:\n",
    "            if isDone:\n",
    "                state = env.reset() # get initial state and prep environment\n",
    "            score = 0\n",
    "            for i in range(201): # run episodes that last 200 frames\n",
    "\n",
    "                act = agent.act(getState(state)) # get action from agent\n",
    "\n",
    "                # feedback from env\n",
    "                state, reward, isDone, debug = env.step(act)\n",
    "                score += reward # accumulate reward in score\n",
    "                if isDone:\n",
    "                    break # end early if losing state\n",
    "\n",
    "            agent.reward(score) # must reward agent (if didn't already score)\n",
    "            \n",
    "        curScores.append(score) # store score\n",
    "            \n",
    "    # at end of generation, make summary of scores\n",
    "    summaryScores.append((min(curScores), max(curScores),\n",
    "                    sum(curScores)/len(curScores))) # min, max, avg\n",
    "    trainer.evolve()\n",
    "    \n",
    "finalTime = time.time() - tStart\n",
    "print('Time Taken (Seconds): ', finalTime)\n",
    "print('Results:\\nMin, Max, Avg')\n",
    "for result in summaryScores:\n",
    "    print(result[0],result[1],result[2])\n",
    "results.append({'Default':{'time': finalTime , 'scores':summaryScores}})"
   ]
  },
  {
   "cell_type": "code",
   "execution_count": 59,
   "metadata": {},
   "outputs": [
    {
     "data": {
      "image/png": "[encoded data removed]",
      "text/plain": [
       "<Figure size 432x288 with 1 Axes>"
      ]
     },
     "metadata": {},
     "output_type": "display_data"
    }
   ],
   "source": [
    "#Plot the average score per generation. \n",
    "#At the end, We will plot all variants.\n",
    "avgs = [x[2] for x in summaryScores]\n",
    "plt.plot(avgs)\n",
    "plt.xlabel('Generation')\n",
    "plt.ylabel('Average Score')\n",
    "plt.title('TPG Performance: 50 generations of size 50')\n",
    "plt.show()"
   ]
  },
  {
   "cell_type": "code",
   "execution_count": 68,
   "metadata": {},
   "outputs": [],
   "source": [
    "#A function to preprocess the image.\n",
    "#The hypothesis is that passing smaller, greyscale image will allow the agent to learn faster\n",
    "#This is a common simple feature extraction procedure for computer vision\n",
    "def preprocess(observation):\n",
    "    #use numpy to convert each pixel to grayscale\n",
    "    \n",
    "    grayscale_observation = observation.mean(2)\n",
    "\n",
    "    # Resize grayscale frame to a 47x47 matrix of 32-bit floats.\n",
    "    resized_observation = transform.resize(grayscale_observation, (47, 47)).astype(np.float32)\n",
    "\n",
    "    return np.expand_dims(resized_observation, 2)\n",
    "\n"
   ]
  },
  {
   "cell_type": "code",
   "execution_count": 83,
   "metadata": {},
   "outputs": [
    {
     "name": "stderr",
     "output_type": "stream",
     "text": [
      "/home/alex/miniconda3/lib/python3.6/site-packages/skimage/transform/_warps.py:105: UserWarning: The default mode, 'constant', will be changed to 'reflect' in skimage 0.15.\n",
      "  warn(\"The default mode, 'constant', will be changed to 'reflect' in \"\n",
      "/home/alex/miniconda3/lib/python3.6/site-packages/skimage/transform/_warps.py:110: UserWarning: Anti-aliasing will be enabled by default in skimage 0.15 to avoid aliasing artifacts when down-sampling images.\n",
      "  warn(\"Anti-aliasing will be enabled by default in skimage 0.15 to \"\n"
     ]
    },
    {
     "data": {
      "image/png": "[encoded data removed]",
      "text/plain": [
       "<Figure size 432x288 with 2 Axes>"
      ]
     },
     "metadata": {},
     "output_type": "display_data"
    }
   ],
   "source": [
    "processed = preprocess(testState)\n",
    "processed = np.reshape(processed, (47, 47,))\n",
    "\n",
    "plt.figure(1)\n",
    "plt.subplot(121)\n",
    "plt.imshow(testState)\n",
    "plt.subplot(122)\n",
    "plt.imshow(processed)\n",
    "plt.show()"
   ]
  },
  {
   "cell_type": "code",
   "execution_count": 69,
   "metadata": {},
   "outputs": [
    {
     "name": "stdout",
     "output_type": "stream",
     "text": [
      "Discrete(6)\n"
     ]
    },
    {
     "name": "stderr",
     "output_type": "stream",
     "text": [
      "Exception ignored in: <bound method Monitor.__del__ of <Monitor<TimeLimit<AtariEnv<SpaceInvaders-v0>>>>>\n",
      "Traceback (most recent call last):\n",
      "  File \"/home/alex/miniconda3/lib/python3.6/site-packages/gym/wrappers/monitor.py\", line 234, in __del__\n",
      "    self.close()\n",
      "  File \"/home/alex/miniconda3/lib/python3.6/site-packages/gym/wrappers/monitor.py\", line 143, in close\n",
      "    self.stats_recorder.close()\n",
      "  File \"/home/alex/miniconda3/lib/python3.6/site-packages/gym/wrappers/monitoring/stats_recorder.py\", line 89, in close\n",
      "    self.flush()\n",
      "  File \"/home/alex/miniconda3/lib/python3.6/site-packages/gym/wrappers/monitoring/stats_recorder.py\", line 96, in flush\n",
      "    with atomic_write.atomic_write(self.path) as f:\n",
      "  File \"/home/alex/miniconda3/lib/python3.6/contextlib.py\", line 81, in __enter__\n",
      "    return next(self.gen)\n",
      "  File \"/home/alex/miniconda3/lib/python3.6/site-packages/gym/utils/atomic_write.py\", line 45, in atomic_write\n",
      "    with open(tmppath, 'wb' if binary else 'w') as file:\n",
      "FileNotFoundError: [Errno 2] No such file or directory: './videos/space-invaders-experiment-4-edge-detection/openaigym.episode_batch.5.30855.stats.json~'\n"
     ]
    }
   ],
   "source": [
    "#Because we used a monitor, we need to initialize a new environment\n",
    "env = gym.make('SpaceInvaders-v0')\n",
    "env = wrappers.Monitor(env, './videos/space-invaders-experiment2-simple-preprocess', force=True)\n",
    "print(env.action_space)"
   ]
  },
  {
   "cell_type": "code",
   "execution_count": 70,
   "metadata": {},
   "outputs": [
    {
     "name": "stdout",
     "output_type": "stream",
     "text": [
      "Training generation  0 . . .\n"
     ]
    },
    {
     "name": "stderr",
     "output_type": "stream",
     "text": [
      "/home/alex/miniconda3/lib/python3.6/site-packages/skimage/transform/_warps.py:105: UserWarning: The default mode, 'constant', will be changed to 'reflect' in skimage 0.15.\n",
      "  warn(\"The default mode, 'constant', will be changed to 'reflect' in \"\n",
      "/home/alex/miniconda3/lib/python3.6/site-packages/skimage/transform/_warps.py:110: UserWarning: Anti-aliasing will be enabled by default in skimage 0.15 to avoid aliasing artifacts when down-sampling images.\n",
      "  warn(\"Anti-aliasing will be enabled by default in skimage 0.15 to \"\n",
      "/home/alex/miniconda3/lib/python3.6/site-packages/skimage/transform/_warps.py:105: UserWarning: The default mode, 'constant', will be changed to 'reflect' in skimage 0.15.\n",
      "  warn(\"The default mode, 'constant', will be changed to 'reflect' in \"\n",
      "/home/alex/miniconda3/lib/python3.6/site-packages/skimage/transform/_warps.py:110: UserWarning: Anti-aliasing will be enabled by default in skimage 0.15 to avoid aliasing artifacts when down-sampling images.\n",
      "  warn(\"Anti-aliasing will be enabled by default in skimage 0.15 to \"\n",
      "/home/alex/miniconda3/lib/python3.6/site-packages/skimage/transform/_warps.py:105: UserWarning: The default mode, 'constant', will be changed to 'reflect' in skimage 0.15.\n",
      "  warn(\"The default mode, 'constant', will be changed to 'reflect' in \"\n",
      "/home/alex/miniconda3/lib/python3.6/site-packages/skimage/transform/_warps.py:110: UserWarning: Anti-aliasing will be enabled by default in skimage 0.15 to avoid aliasing artifacts when down-sampling images.\n",
      "  warn(\"Anti-aliasing will be enabled by default in skimage 0.15 to \"\n"
     ]
    },
    {
     "ename": "KeyboardInterrupt",
     "evalue": "",
     "output_type": "error",
     "traceback": [
      "\u001b[0;31m---------------------------------------------------------------------------\u001b[0m",
      "\u001b[0;31mKeyboardInterrupt\u001b[0m                         Traceback (most recent call last)",
      "\u001b[0;32m<ipython-input-70-9492729c3105>\u001b[0m in \u001b[0;36m<module>\u001b[0;34m()\u001b[0m\n\u001b[1;32m     28\u001b[0m                 \u001b[0mact\u001b[0m \u001b[0;34m=\u001b[0m \u001b[0magent\u001b[0m\u001b[0;34m.\u001b[0m\u001b[0mact\u001b[0m\u001b[0;34m(\u001b[0m\u001b[0mstate\u001b[0m\u001b[0;34m)\u001b[0m \u001b[0;31m# get action from agent\u001b[0m\u001b[0;34m\u001b[0m\u001b[0m\n\u001b[1;32m     29\u001b[0m                 \u001b[0;31m# feedback from env\u001b[0m\u001b[0;34m\u001b[0m\u001b[0;34m\u001b[0m\u001b[0m\n\u001b[0;32m---> 30\u001b[0;31m                 \u001b[0mstate\u001b[0m\u001b[0;34m,\u001b[0m \u001b[0mreward\u001b[0m\u001b[0;34m,\u001b[0m \u001b[0misDone\u001b[0m\u001b[0;34m,\u001b[0m \u001b[0mdebug\u001b[0m \u001b[0;34m=\u001b[0m \u001b[0menv\u001b[0m\u001b[0;34m.\u001b[0m\u001b[0mstep\u001b[0m\u001b[0;34m(\u001b[0m\u001b[0mact\u001b[0m\u001b[0;34m)\u001b[0m\u001b[0;34m\u001b[0m\u001b[0m\n\u001b[0m\u001b[1;32m     31\u001b[0m                 \u001b[0mstate\u001b[0m \u001b[0;34m=\u001b[0m \u001b[0mpreprocess\u001b[0m\u001b[0;34m(\u001b[0m\u001b[0mstate\u001b[0m\u001b[0;34m)\u001b[0m \u001b[0;31m#process the state returned at each step\u001b[0m\u001b[0;34m\u001b[0m\u001b[0m\n\u001b[1;32m     32\u001b[0m                 \u001b[0mscore\u001b[0m \u001b[0;34m+=\u001b[0m \u001b[0mreward\u001b[0m \u001b[0;31m# accumulate reward in score\u001b[0m\u001b[0;34m\u001b[0m\u001b[0m\n",
      "\u001b[0;32m~/miniconda3/lib/python3.6/site-packages/gym/wrappers/monitor.py\u001b[0m in \u001b[0;36mstep\u001b[0;34m(self, action)\u001b[0m\n\u001b[1;32m     29\u001b[0m     \u001b[0;32mdef\u001b[0m \u001b[0mstep\u001b[0m\u001b[0;34m(\u001b[0m\u001b[0mself\u001b[0m\u001b[0;34m,\u001b[0m \u001b[0maction\u001b[0m\u001b[0;34m)\u001b[0m\u001b[0;34m:\u001b[0m\u001b[0;34m\u001b[0m\u001b[0m\n\u001b[1;32m     30\u001b[0m         \u001b[0mself\u001b[0m\u001b[0;34m.\u001b[0m\u001b[0m_before_step\u001b[0m\u001b[0;34m(\u001b[0m\u001b[0maction\u001b[0m\u001b[0;34m)\u001b[0m\u001b[0;34m\u001b[0m\u001b[0m\n\u001b[0;32m---> 31\u001b[0;31m         \u001b[0mobservation\u001b[0m\u001b[0;34m,\u001b[0m \u001b[0mreward\u001b[0m\u001b[0;34m,\u001b[0m \u001b[0mdone\u001b[0m\u001b[0;34m,\u001b[0m \u001b[0minfo\u001b[0m \u001b[0;34m=\u001b[0m \u001b[0mself\u001b[0m\u001b[0;34m.\u001b[0m\u001b[0menv\u001b[0m\u001b[0;34m.\u001b[0m\u001b[0mstep\u001b[0m\u001b[0;34m(\u001b[0m\u001b[0maction\u001b[0m\u001b[0;34m)\u001b[0m\u001b[0;34m\u001b[0m\u001b[0m\n\u001b[0m\u001b[1;32m     32\u001b[0m         \u001b[0mdone\u001b[0m \u001b[0;34m=\u001b[0m \u001b[0mself\u001b[0m\u001b[0;34m.\u001b[0m\u001b[0m_after_step\u001b[0m\u001b[0;34m(\u001b[0m\u001b[0mobservation\u001b[0m\u001b[0;34m,\u001b[0m \u001b[0mreward\u001b[0m\u001b[0;34m,\u001b[0m \u001b[0mdone\u001b[0m\u001b[0;34m,\u001b[0m \u001b[0minfo\u001b[0m\u001b[0;34m)\u001b[0m\u001b[0;34m\u001b[0m\u001b[0m\n\u001b[1;32m     33\u001b[0m \u001b[0;34m\u001b[0m\u001b[0m\n",
      "\u001b[0;32m~/miniconda3/lib/python3.6/site-packages/gym/wrappers/time_limit.py\u001b[0m in \u001b[0;36mstep\u001b[0;34m(self, action)\u001b[0m\n\u001b[1;32m     29\u001b[0m     \u001b[0;32mdef\u001b[0m \u001b[0mstep\u001b[0m\u001b[0;34m(\u001b[0m\u001b[0mself\u001b[0m\u001b[0;34m,\u001b[0m \u001b[0maction\u001b[0m\u001b[0;34m)\u001b[0m\u001b[0;34m:\u001b[0m\u001b[0;34m\u001b[0m\u001b[0m\n\u001b[1;32m     30\u001b[0m         \u001b[0;32massert\u001b[0m \u001b[0mself\u001b[0m\u001b[0;34m.\u001b[0m\u001b[0m_episode_started_at\u001b[0m \u001b[0;32mis\u001b[0m \u001b[0;32mnot\u001b[0m \u001b[0;32mNone\u001b[0m\u001b[0;34m,\u001b[0m \u001b[0;34m\"Cannot call env.step() before calling reset()\"\u001b[0m\u001b[0;34m\u001b[0m\u001b[0m\n\u001b[0;32m---> 31\u001b[0;31m         \u001b[0mobservation\u001b[0m\u001b[0;34m,\u001b[0m \u001b[0mreward\u001b[0m\u001b[0;34m,\u001b[0m \u001b[0mdone\u001b[0m\u001b[0;34m,\u001b[0m \u001b[0minfo\u001b[0m \u001b[0;34m=\u001b[0m \u001b[0mself\u001b[0m\u001b[0;34m.\u001b[0m\u001b[0menv\u001b[0m\u001b[0;34m.\u001b[0m\u001b[0mstep\u001b[0m\u001b[0;34m(\u001b[0m\u001b[0maction\u001b[0m\u001b[0;34m)\u001b[0m\u001b[0;34m\u001b[0m\u001b[0m\n\u001b[0m\u001b[1;32m     32\u001b[0m         \u001b[0mself\u001b[0m\u001b[0;34m.\u001b[0m\u001b[0m_elapsed_steps\u001b[0m \u001b[0;34m+=\u001b[0m \u001b[0;36m1\u001b[0m\u001b[0;34m\u001b[0m\u001b[0m\n\u001b[1;32m     33\u001b[0m \u001b[0;34m\u001b[0m\u001b[0m\n",
      "\u001b[0;32m~/miniconda3/lib/python3.6/site-packages/gym/envs/atari/atari_env.py\u001b[0m in \u001b[0;36mstep\u001b[0;34m(self, a)\u001b[0m\n\u001b[1;32m     73\u001b[0m             \u001b[0mnum_steps\u001b[0m \u001b[0;34m=\u001b[0m \u001b[0mself\u001b[0m\u001b[0;34m.\u001b[0m\u001b[0mnp_random\u001b[0m\u001b[0;34m.\u001b[0m\u001b[0mrandint\u001b[0m\u001b[0;34m(\u001b[0m\u001b[0mself\u001b[0m\u001b[0;34m.\u001b[0m\u001b[0mframeskip\u001b[0m\u001b[0;34m[\u001b[0m\u001b[0;36m0\u001b[0m\u001b[0;34m]\u001b[0m\u001b[0;34m,\u001b[0m \u001b[0mself\u001b[0m\u001b[0;34m.\u001b[0m\u001b[0mframeskip\u001b[0m\u001b[0;34m[\u001b[0m\u001b[0;36m1\u001b[0m\u001b[0;34m]\u001b[0m\u001b[0;34m)\u001b[0m\u001b[0;34m\u001b[0m\u001b[0m\n\u001b[1;32m     74\u001b[0m         \u001b[0;32mfor\u001b[0m \u001b[0m_\u001b[0m \u001b[0;32min\u001b[0m \u001b[0mrange\u001b[0m\u001b[0;34m(\u001b[0m\u001b[0mnum_steps\u001b[0m\u001b[0;34m)\u001b[0m\u001b[0;34m:\u001b[0m\u001b[0;34m\u001b[0m\u001b[0m\n\u001b[0;32m---> 75\u001b[0;31m             \u001b[0mreward\u001b[0m \u001b[0;34m+=\u001b[0m \u001b[0mself\u001b[0m\u001b[0;34m.\u001b[0m\u001b[0male\u001b[0m\u001b[0;34m.\u001b[0m\u001b[0mact\u001b[0m\u001b[0;34m(\u001b[0m\u001b[0maction\u001b[0m\u001b[0;34m)\u001b[0m\u001b[0;34m\u001b[0m\u001b[0m\n\u001b[0m\u001b[1;32m     76\u001b[0m         \u001b[0mob\u001b[0m \u001b[0;34m=\u001b[0m \u001b[0mself\u001b[0m\u001b[0;34m.\u001b[0m\u001b[0m_get_obs\u001b[0m\u001b[0;34m(\u001b[0m\u001b[0;34m)\u001b[0m\u001b[0;34m\u001b[0m\u001b[0m\n\u001b[1;32m     77\u001b[0m \u001b[0;34m\u001b[0m\u001b[0m\n",
      "\u001b[0;32m~/miniconda3/lib/python3.6/site-packages/atari_py/ale_python_interface.py\u001b[0m in \u001b[0;36mact\u001b[0;34m(self, action)\u001b[0m\n\u001b[1;32m    134\u001b[0m \u001b[0;34m\u001b[0m\u001b[0m\n\u001b[1;32m    135\u001b[0m     \u001b[0;32mdef\u001b[0m \u001b[0mact\u001b[0m\u001b[0;34m(\u001b[0m\u001b[0mself\u001b[0m\u001b[0;34m,\u001b[0m \u001b[0maction\u001b[0m\u001b[0;34m)\u001b[0m\u001b[0;34m:\u001b[0m\u001b[0;34m\u001b[0m\u001b[0m\n\u001b[0;32m--> 136\u001b[0;31m         \u001b[0;32mreturn\u001b[0m \u001b[0male_lib\u001b[0m\u001b[0;34m.\u001b[0m\u001b[0mact\u001b[0m\u001b[0;34m(\u001b[0m\u001b[0mself\u001b[0m\u001b[0;34m.\u001b[0m\u001b[0mobj\u001b[0m\u001b[0;34m,\u001b[0m \u001b[0mint\u001b[0m\u001b[0;34m(\u001b[0m\u001b[0maction\u001b[0m\u001b[0;34m)\u001b[0m\u001b[0;34m)\u001b[0m\u001b[0;34m\u001b[0m\u001b[0m\n\u001b[0m\u001b[1;32m    137\u001b[0m \u001b[0;34m\u001b[0m\u001b[0m\n\u001b[1;32m    138\u001b[0m     \u001b[0;32mdef\u001b[0m \u001b[0mgame_over\u001b[0m\u001b[0;34m(\u001b[0m\u001b[0mself\u001b[0m\u001b[0;34m)\u001b[0m\u001b[0;34m:\u001b[0m\u001b[0;34m\u001b[0m\u001b[0m\n",
      "\u001b[0;31mKeyboardInterrupt\u001b[0m: "
     ]
    }
   ],
   "source": [
    "#The same code, this time modified to preprocess the image each time a state object is returned\n",
    "%matplotlib inline\n",
    "\n",
    "tStart = time.time()\n",
    "\n",
    "trainer = TpgTrainer(actions=range(6), teamPopSize=100)\n",
    "\n",
    "curScores = [] \n",
    "pp_summaryScores = []\n",
    "\n",
    "isDone = True\n",
    "for gen in range(100):\n",
    "    curScores = [] \n",
    "    print(\"Training generation \",gen,\". . .\")\n",
    "    while True: \n",
    "        teamNum = trainer.remainingAgents()\n",
    "        agent = trainer.getNextAgent()\n",
    "        if agent is None:\n",
    "            break \n",
    "        \n",
    "        if agent.taskDone():\n",
    "            score = agent.getOutcome()\n",
    "        else:\n",
    "            if isDone:\n",
    "                state = preprocess(env.reset()) # preprocess the initial state\n",
    "            score = 0\n",
    "            for i in range(201):\n",
    "                act = agent.act(state) # get action from agent\n",
    "                # feedback from env\n",
    "                state, reward, isDone, debug = env.step(act)\n",
    "                state = preprocess(state) #process the state returned at each step\n",
    "                score += reward # accumulate reward in score\n",
    "                if isDone:\n",
    "                    break # end early if losing state\n",
    "\n",
    "            agent.reward(score)\n",
    "            \n",
    "        curScores.append(score)\n",
    "            \n",
    "    pp_summaryScores.append((min(curScores), max(curScores),\n",
    "                    sum(curScores)/len(curScores)))\n",
    "    trainer.evolve()\n",
    "    \n",
    "finalTime = time.time() - tStart\n",
    "print('Time Taken (Seconds): ', finalTime)\n",
    "print('Results:\\nMin, Max, Avg')\n",
    "for result in pp_summaryScores:\n",
    "    print(result[0],result[1],result[2])\n",
    "results.append({'preprocess_var1':{'time': finalTime , 'scores':pp_summaryScores}})"
   ]
  },
  {
   "cell_type": "code",
   "execution_count": 8,
   "metadata": {},
   "outputs": [
    {
     "data": {
      "image/png": "[encoded data removed]",
      "text/plain": [
       "<Figure size 432x288 with 1 Axes>"
      ]
     },
     "metadata": {},
     "output_type": "display_data"
    }
   ],
   "source": [
    "pp_avgs = [x[2] for x in pp_summaryScores]\n",
    "plt.plot(pp_avgs)\n",
    "plt.xlabel('Generation')\n",
    "plt.ylabel('Average Score')\n",
    "plt.title('TPG Performance: 50 generations of size 50')\n",
    "plt.show()"
   ]
  },
  {
   "cell_type": "code",
   "execution_count": 19,
   "metadata": {},
   "outputs": [],
   "source": [
    "#This code will use a different preprocessing approach.\n",
    "#The idea is to crop the image (removing the score from the top) and downsize.\n",
    "#then, set all colored pixels to simply have the value \"1\"\n",
    "#I would usually set the data type to float but due to the bitarray processing that happens later this may be best omitted\n",
    "\n",
    "def preprocess_variant2(observation):\n",
    "    #image processing\n",
    "    pro_obs = observation[35:195] # crop the top bit out\n",
    "    pro_obs = pro_obs[::2,::2,0] #downsamples by factor of two, a successful approach seen for Pong\n",
    "    pro_obs[pro_obs != 0] = 1 #change all other pixel values to just be 1.\n",
    "    # Convert from 80 x 80 matrix to 1600 x 1 matrix\n",
    "    pro_obs = pro_obs.ravel()\n",
    "    return pro_obs\n"
   ]
  },
  {
   "cell_type": "code",
   "execution_count": 84,
   "metadata": {},
   "outputs": [
    {
     "data": {
      "image/png": "[encoded data removed]",
      "text/plain": [
       "<Figure size 432x288 with 2 Axes>"
      ]
     },
     "metadata": {},
     "output_type": "display_data"
    }
   ],
   "source": [
    "processed = preprocess_variant2(testState)\n",
    "processed = np.reshape(processed, (80, 80,))\n",
    "\n",
    "plt.figure(1)\n",
    "plt.subplot(121)\n",
    "plt.imshow(testState)\n",
    "plt.subplot(122)\n",
    "plt.imshow(processed)\n",
    "plt.show()"
   ]
  },
  {
   "cell_type": "code",
   "execution_count": 20,
   "metadata": {},
   "outputs": [
    {
     "name": "stdout",
     "output_type": "stream",
     "text": [
      "Discrete(6)\n"
     ]
    }
   ],
   "source": [
    "#Make a new environment and monitor.\n",
    "env = gym.make('SpaceInvaders-v0')\n",
    "env = wrappers.Monitor(env, './videos/space-invaders-experiment-3-preprocessing-variant-2', force=True)\n",
    "print(env.action_space)"
   ]
  },
  {
   "cell_type": "code",
   "execution_count": 21,
   "metadata": {},
   "outputs": [
    {
     "name": "stdout",
     "output_type": "stream",
     "text": [
      "Training generation  0 . . .\n",
      "Training generation  1 . . .\n",
      "Training generation  2 . . .\n",
      "Training generation  3 . . .\n",
      "Training generation  4 . . .\n",
      "Training generation  5 . . .\n",
      "Training generation  6 . . .\n",
      "Training generation  7 . . .\n",
      "Training generation  8 . . .\n",
      "Training generation  9 . . .\n",
      "Training generation  10 . . .\n",
      "Training generation  11 . . .\n",
      "Training generation  12 . . .\n",
      "Training generation  13 . . .\n",
      "Training generation  14 . . .\n",
      "Training generation  15 . . .\n",
      "Training generation  16 . . .\n",
      "Training generation  17 . . .\n",
      "Training generation  18 . . .\n",
      "Training generation  19 . . .\n",
      "Training generation  20 . . .\n",
      "Training generation  21 . . .\n",
      "Training generation  22 . . .\n",
      "Training generation  23 . . .\n",
      "Training generation  24 . . .\n",
      "Training generation  25 . . .\n",
      "Training generation  26 . . .\n",
      "Training generation  27 . . .\n",
      "Training generation  28 . . .\n",
      "Training generation  29 . . .\n",
      "Training generation  30 . . .\n",
      "Training generation  31 . . .\n",
      "Training generation  32 . . .\n",
      "Training generation  33 . . .\n",
      "Training generation  34 . . .\n",
      "Training generation  35 . . .\n",
      "Training generation  36 . . .\n",
      "Training generation  37 . . .\n",
      "Training generation  38 . . .\n",
      "Training generation  39 . . .\n",
      "Training generation  40 . . .\n",
      "Training generation  41 . . .\n",
      "Training generation  42 . . .\n",
      "Training generation  43 . . .\n",
      "Training generation  44 . . .\n",
      "Training generation  45 . . .\n",
      "Training generation  46 . . .\n",
      "Training generation  47 . . .\n",
      "Training generation  48 . . .\n",
      "Training generation  49 . . .\n",
      "Time Taken (Seconds): 111.36483454704285\n",
      "Results:\n",
      "Min, Max, Avg\n",
      "0.0 275.0 18.5\n",
      "0.0 275.0 33.58695652173913\n",
      "0.0 275.0 40.375\n",
      "0.0 275.0 53.5\n",
      "0.0 275.0 65.11627906976744\n",
      "0.0 275.0 66.875\n",
      "0.0 275.0 73.02631578947368\n",
      "0.0 275.0 72.85714285714286\n",
      "0.0 275.0 83.41463414634147\n",
      "0.0 275.0 86.97368421052632\n",
      "0.0 260.0 87.6923076923077\n",
      "0.0 260.0 88.64864864864865\n",
      "0.0 260.0 83.47222222222223\n",
      "0.0 260.0 91.89189189189189\n",
      "0.0 260.0 92.375\n",
      "0.0 260.0 93.33333333333333\n",
      "0.0 260.0 81.02564102564102\n",
      "0.0 260.0 87.38095238095238\n",
      "0.0 260.0 87.61904761904762\n",
      "0.0 255.0 81.5\n",
      "0.0 260.0 86.75\n",
      "0.0 260.0 92.92682926829268\n",
      "0.0 260.0 86.15384615384616\n",
      "0.0 260.0 82.25\n",
      "0.0 260.0 86.30952380952381\n",
      "0.0 260.0 84.7560975609756\n",
      "0.0 260.0 84.65116279069767\n",
      "0.0 260.0 87.6829268292683\n",
      "0.0 260.0 89.86842105263158\n",
      "0.0 260.0 86.0\n",
      "0.0 360.0 92.63888888888889\n",
      "0.0 360.0 101.15384615384616\n",
      "0.0 360.0 93.125\n",
      "0.0 260.0 88.28947368421052\n",
      "0.0 360.0 103.58974358974359\n",
      "0.0 360.0 92.56756756756756\n",
      "0.0 360.0 85.26315789473684\n",
      "0.0 360.0 102.1951219512195\n",
      "0.0 360.0 93.28947368421052\n",
      "0.0 255.0 81.84210526315789\n",
      "0.0 360.0 93.84615384615384\n",
      "0.0 260.0 101.125\n",
      "0.0 360.0 107.3170731707317\n",
      "0.0 360.0 108.55263157894737\n",
      "0.0 260.0 90.39473684210526\n",
      "0.0 360.0 108.14285714285714\n",
      "0.0 360.0 108.84615384615384\n",
      "0.0 260.0 100.52631578947368\n",
      "0.0 360.0 105.47619047619048\n",
      "0.0 360.0 103.10810810810811\n"
     ]
    }
   ],
   "source": [
    "#Run again using the alternative method of preprocessing.\n",
    "%matplotlib inline\n",
    "\n",
    "tStart = time.time()\n",
    "\n",
    "trainer = TpgTrainer(actions=range(6), teamPopSize=100)\n",
    "\n",
    "curScores = [] \n",
    "pp2_summaryScores = [] \n",
    "\n",
    "isDone = True\n",
    "for gen in range(100): \n",
    "    curScores = [] \n",
    "    print(\"Training generation \",gen,\". . .\")\n",
    "    while True:\n",
    "        teamNum = trainer.remainingAgents()\n",
    "        agent = trainer.getNextAgent()\n",
    "        if agent is None:\n",
    "            break\n",
    "        \n",
    "        if agent.taskDone():\n",
    "            score = agent.getOutcome()\n",
    "        else:\n",
    "            if isDone:\n",
    "                state = preprocess_variant2(env.reset()) # process initial state\n",
    "            score = 0\n",
    "            for i in range(201):\n",
    "                act = agent.act(state) # get action from agent\n",
    "                # feedback from env\n",
    "                state, reward, isDone, debug = env.step(act)\n",
    "                state = preprocess_variant2(state) #Process state returned by step()\n",
    "                score += reward # accumulate reward in score\n",
    "                if isDone:\n",
    "                    break # end early if losing state\n",
    "            agent.reward(score)\n",
    "            \n",
    "        curScores.append(score)\n",
    "            \n",
    "    pp2_summaryScores.append((min(curScores), max(curScores),\n",
    "                    sum(curScores)/len(curScores)))\n",
    "    trainer.evolve()\n",
    "    \n",
    "finalTime = time.time() - tStart\n",
    "print('Time Taken (Seconds): ', finalTime\n",
    "print('Results:\\nMin, Max, Avg')\n",
    "for result in pp_summaryScores:\n",
    "    print(result[0],result[1],result[2])\n",
    "results.append({'preprocess_variant2':{'time': finalTime , 'scores':pp2_summaryScores}})"
   ]
  },
  {
   "cell_type": "code",
   "execution_count": 22,
   "metadata": {},
   "outputs": [
    {
     "data": {
      "image/png": "[encoded data removed]",
      "text/plain": [
       "<Figure size 432x288 with 1 Axes>"
      ]
     },
     "metadata": {},
     "output_type": "display_data"
    }
   ],
   "source": [
    "pp2_avgs = [x[2] for x in pp2_summaryScores]\n",
    "plt.plot(pp2_avgs)\n",
    "plt.xlabel('Generation')\n",
    "plt.ylabel('Average Score')\n",
    "plt.show()"
   ]
  },
  {
   "cell_type": "code",
   "execution_count": 20,
   "metadata": {},
   "outputs": [
    {
     "name": "stdout",
     "output_type": "stream",
     "text": [
      "Discrete(6)\n"
     ]
    }
   ],
   "source": [
    "#Make a new environment and monitor.\n",
    "env = gym.make('SpaceInvaders-v0')\n",
    "env = wrappers.Monitor(env, './videos/space-invaders-experiment-4-state-as-difference-in-frames', force=True)\n",
    "print(env.action_space)"
   ]
  },
  {
   "cell_type": "code",
   "execution_count": 21,
   "metadata": {},
   "outputs": [
    {
     "name": "stdout",
     "output_type": "stream",
     "text": [
      "Training generation  0 . . .\n",
      "Training generation  1 . . .\n",
      "Training generation  2 . . .\n",
      "Training generation  3 . . .\n",
      "Training generation  4 . . .\n",
      "Training generation  5 . . .\n",
      "Training generation  6 . . .\n",
      "Training generation  7 . . .\n",
      "Training generation  8 . . .\n",
      "Training generation  9 . . .\n",
      "Training generation  10 . . .\n",
      "Training generation  11 . . .\n",
      "Training generation  12 . . .\n",
      "Training generation  13 . . .\n",
      "Training generation  14 . . .\n",
      "Training generation  15 . . .\n",
      "Training generation  16 . . .\n",
      "Training generation  17 . . .\n",
      "Training generation  18 . . .\n",
      "Training generation  19 . . .\n",
      "Training generation  20 . . .\n",
      "Training generation  21 . . .\n",
      "Training generation  22 . . .\n",
      "Training generation  23 . . .\n",
      "Training generation  24 . . .\n",
      "Training generation  25 . . .\n",
      "Training generation  26 . . .\n",
      "Training generation  27 . . .\n",
      "Training generation  28 . . .\n",
      "Training generation  29 . . .\n",
      "Training generation  30 . . .\n",
      "Training generation  31 . . .\n",
      "Training generation  32 . . .\n",
      "Training generation  33 . . .\n",
      "Training generation  34 . . .\n",
      "Training generation  35 . . .\n",
      "Training generation  36 . . .\n",
      "Training generation  37 . . .\n",
      "Training generation  38 . . .\n",
      "Training generation  39 . . .\n",
      "Training generation  40 . . .\n",
      "Training generation  41 . . .\n",
      "Training generation  42 . . .\n",
      "Training generation  43 . . .\n",
      "Training generation  44 . . .\n",
      "Training generation  45 . . .\n",
      "Training generation  46 . . .\n",
      "Training generation  47 . . .\n",
      "Training generation  48 . . .\n",
      "Training generation  49 . . .\n",
      "Time Taken (Seconds): 111.36483454704285\n",
      "Results:\n",
      "Min, Max, Avg\n",
      "0.0 275.0 18.5\n",
      "0.0 275.0 33.58695652173913\n",
      "0.0 275.0 40.375\n",
      "0.0 275.0 53.5\n",
      "0.0 275.0 65.11627906976744\n",
      "0.0 275.0 66.875\n",
      "0.0 275.0 73.02631578947368\n",
      "0.0 275.0 72.85714285714286\n",
      "0.0 275.0 83.41463414634147\n",
      "0.0 275.0 86.97368421052632\n",
      "0.0 260.0 87.6923076923077\n",
      "0.0 260.0 88.64864864864865\n",
      "0.0 260.0 83.47222222222223\n",
      "0.0 260.0 91.89189189189189\n",
      "0.0 260.0 92.375\n",
      "0.0 260.0 93.33333333333333\n",
      "0.0 260.0 81.02564102564102\n",
      "0.0 260.0 87.38095238095238\n",
      "0.0 260.0 87.61904761904762\n",
      "0.0 255.0 81.5\n",
      "0.0 260.0 86.75\n",
      "0.0 260.0 92.92682926829268\n",
      "0.0 260.0 86.15384615384616\n",
      "0.0 260.0 82.25\n",
      "0.0 260.0 86.30952380952381\n",
      "0.0 260.0 84.7560975609756\n",
      "0.0 260.0 84.65116279069767\n",
      "0.0 260.0 87.6829268292683\n",
      "0.0 260.0 89.86842105263158\n",
      "0.0 260.0 86.0\n",
      "0.0 360.0 92.63888888888889\n",
      "0.0 360.0 101.15384615384616\n",
      "0.0 360.0 93.125\n",
      "0.0 260.0 88.28947368421052\n",
      "0.0 360.0 103.58974358974359\n",
      "0.0 360.0 92.56756756756756\n",
      "0.0 360.0 85.26315789473684\n",
      "0.0 360.0 102.1951219512195\n",
      "0.0 360.0 93.28947368421052\n",
      "0.0 255.0 81.84210526315789\n",
      "0.0 360.0 93.84615384615384\n",
      "0.0 260.0 101.125\n",
      "0.0 360.0 107.3170731707317\n",
      "0.0 360.0 108.55263157894737\n",
      "0.0 260.0 90.39473684210526\n",
      "0.0 360.0 108.14285714285714\n",
      "0.0 360.0 108.84615384615384\n",
      "0.0 260.0 100.52631578947368\n",
      "0.0 360.0 105.47619047619048\n",
      "0.0 360.0 103.10810810810811\n"
     ]
    }
   ],
   "source": [
    "#Run again. This time, use the difference between processed frames as the state\n",
    "%matplotlib inline\n",
    "\n",
    "tStart = time.time()\n",
    "\n",
    "trainer = TpgTrainer(actions=range(6), teamPopSize=50)\n",
    "\n",
    "curScores = [] \n",
    "df_summaryScores = []\n",
    "\n",
    "isDone = True\n",
    "prev_obs = None #used later\n",
    "for gen in range(100):\n",
    "    curScores = [] \n",
    "    print(\"Training generation \",gen,\". . .\")\n",
    "    while True:\n",
    "        teamNum = trainer.remainingAgents()\n",
    "        agent = trainer.getNextAgent()\n",
    "        if agent is None:\n",
    "            break\n",
    "        \n",
    "        if agent.taskDone():\n",
    "            score = agent.getOutcome()\n",
    "        else:\n",
    "            if isDone:\n",
    "                obs = preprocess_variant2(env.reset()) # get initial state and prep environment\n",
    "                 #Calculate the difference between the prior observation and the current state. pass the difference as state\n",
    "                state = obs - prev_obs if prev_obs is not None else np.zeros(1600)\n",
    "                prev_obs = obs\n",
    "            score = 0\n",
    "            for i in range(201):\n",
    "                act = agent.act(state) # get action from agent\n",
    "                # feedback from env\n",
    "                obs, reward, isDone, debug = env.step(act)\n",
    "                obs = preprocess_variant2(obs) #Again process the state\n",
    "                state = obs - prev_obs if prev_obs is not None else np.zeros(1600)\n",
    "                prev_obs = obs\n",
    "                score += reward # accumulate reward in score\n",
    "                if isDone:\n",
    "                    break # end early if losing state\n",
    "\n",
    "            agent.reward(score)\n",
    "            \n",
    "        curScores.append(score)\n",
    "            \n",
    "    df_summaryScores.append((min(curScores), max(curScores),\n",
    "                    sum(curScores)/len(curScores)))\n",
    "    trainer.evolve()\n",
    "    \n",
    "finalTime = time.time() - tStart\n",
    "print('Time Taken (Seconds): ', finalTime)\n",
    "print('Results:\\nMin, Max, Avg')\n",
    "for result in pp_summaryScores:\n",
    "    print(result[0],result[1],result[2])\n",
    "results.append({'differential_state':{'time': finalTime , 'scores':df_summaryScores}})"
   ]
  },
  {
   "cell_type": "code",
   "execution_count": 22,
   "metadata": {},
   "outputs": [
    {
     "data": {
      "image/png": "[encoded data removed]",
      "text/plain": [
       "<Figure size 432x288 with 1 Axes>"
      ]
     },
     "metadata": {},
     "output_type": "display_data"
    }
   ],
   "source": [
    "#Plot the average scores per generation\n",
    "df_avgs = [x[2] for x in df_summaryScores]\n",
    "#plt.plot(avgs)\n",
    "plt.plot(df_avgs)\n",
    "plt.xlabel('Generation')\n",
    "plt.ylabel('Average Score')\n",
    "plt.show()"
   ]
  },
  {
   "cell_type": "code",
   "execution_count": 87,
   "metadata": {},
   "outputs": [],
   "source": [
    "#Try using a convolution as the preprocessing step\n",
    "edge_kernel = np.array([[-1,-1,-1],[-1,8,-1],[-1,-1,-1]]) #an edge detection kernel\n",
    "def convolution(obs):\n",
    "    edge = color.rgb2gray(obs)\n",
    "    edge = sp.convolve2d(edge, edge_kernel, 'valid')\n",
    "    edge = edge.ravel()\n",
    "    return edge\n",
    "    "
   ]
  },
  {
   "cell_type": "code",
   "execution_count": 89,
   "metadata": {},
   "outputs": [
    {
     "data": {
      "image/png": "[encoded data removed]",
      "text/plain": [
       "<Figure size 432x288 with 2 Axes>"
      ]
     },
     "metadata": {},
     "output_type": "display_data"
    }
   ],
   "source": [
    "processed = convolution(testState)\n",
    "processed = np.reshape(processed, (208, 158,))\n",
    "\n",
    "plt.figure(1)\n",
    "plt.subplot(121)\n",
    "plt.imshow(testState)\n",
    "plt.subplot(122)\n",
    "plt.imshow(processed)\n",
    "plt.show()"
   ]
  },
  {
   "cell_type": "code",
   "execution_count": 54,
   "metadata": {},
   "outputs": [
    {
     "name": "stdout",
     "output_type": "stream",
     "text": [
      "Discrete(6)\n"
     ]
    }
   ],
   "source": [
    "#Make a new environment and monitor.\n",
    "env = gym.make('SpaceInvaders-v0')\n",
    "env = wrappers.Monitor(env, './videos/space-invaders-experiment-5-edge-detection', force=True)\n",
    "print(env.action_space)"
   ]
  },
  {
   "cell_type": "code",
   "execution_count": 55,
   "metadata": {},
   "outputs": [
    {
     "name": "stdout",
     "output_type": "stream",
     "text": [
      "Training generation  0 . . .\n",
      "Training generation  1 . . .\n",
      "Training generation  2 . . .\n",
      "Training generation  3 . . .\n",
      "Training generation  4 . . .\n",
      "Training generation  5 . . .\n",
      "Training generation  6 . . .\n",
      "Training generation  7 . . .\n",
      "Training generation  8 . . .\n",
      "Training generation  9 . . .\n",
      "Training generation  10 . . .\n",
      "Training generation  11 . . .\n",
      "Training generation  12 . . .\n",
      "Training generation  13 . . .\n",
      "Training generation  14 . . .\n",
      "Training generation  15 . . .\n",
      "Training generation  16 . . .\n",
      "Training generation  17 . . .\n",
      "Training generation  18 . . .\n",
      "Training generation  19 . . .\n",
      "Training generation  20 . . .\n",
      "Training generation  21 . . .\n",
      "Training generation  22 . . .\n",
      "Training generation  23 . . .\n",
      "Training generation  24 . . .\n",
      "Training generation  25 . . .\n",
      "Training generation  26 . . .\n",
      "Training generation  27 . . .\n",
      "Training generation  28 . . .\n",
      "Training generation  29 . . .\n",
      "Training generation  30 . . .\n",
      "Training generation  31 . . .\n",
      "Training generation  32 . . .\n",
      "Training generation  33 . . .\n",
      "Training generation  34 . . .\n",
      "Training generation  35 . . .\n",
      "Training generation  36 . . .\n",
      "Training generation  37 . . .\n",
      "Training generation  38 . . .\n",
      "Training generation  39 . . .\n",
      "Training generation  40 . . .\n",
      "Training generation  41 . . .\n",
      "Training generation  42 . . .\n",
      "Training generation  43 . . .\n",
      "Training generation  44 . . .\n",
      "Training generation  45 . . .\n",
      "Training generation  46 . . .\n",
      "Training generation  47 . . .\n",
      "Training generation  48 . . .\n",
      "Training generation  49 . . .\n",
      "Time Taken (Seconds): 428.09410095214844\n",
      "Results:\n",
      "Min, Max, Avg\n"
     ]
    }
   ],
   "source": [
    "#Try again, this time using convoluted image as state input.\n",
    "%matplotlib inline\n",
    "\n",
    "tStart = time.time()\n",
    "\n",
    "trainer = TpgTrainer(actions=range(6), teamPopSize=100)\n",
    "\n",
    "curScores = [] # hold scores in a generation\n",
    "conv_summaryScores = []\n",
    "\n",
    "isDone = True\n",
    "prev_obs = None \n",
    "for gen in range(100):\n",
    "    curScores = [] \n",
    "    print(\"Training generation \",gen,\". . .\")\n",
    "    while True: \n",
    "        teamNum = trainer.remainingAgents()\n",
    "        agent = trainer.getNextAgent()\n",
    "        if agent is None:\n",
    "            break\n",
    "        \n",
    "        if agent.taskDone():\n",
    "            score = agent.getOutcome()\n",
    "        else:\n",
    "            if isDone:\n",
    "                obs = convolution(env.reset())\n",
    "            score = 0\n",
    "            for i in range(201): \n",
    "                act = agent.act(state)\n",
    "                # feedback from env\n",
    "                obs, reward, isDone, debug = env.step(act)\n",
    "                obs = convolution(obs) #Convolute the state \n",
    "                score += reward \n",
    "                if isDone:\n",
    "                    break \n",
    "\n",
    "            agent.reward(score)\n",
    "            \n",
    "        curScores.append(score)\n",
    "            \n",
    "    conv_summaryScores.append((min(curScores), max(curScores),\n",
    "                    sum(curScores)/len(curScores))) # min, max, avg\n",
    "    trainer.evolve()\n",
    "    \n",
    "finalTime = time.time() - tStart\n",
    "print('Time Taken (Seconds): ', finalTime)\n",
    "print('Results:\\nMin, Max, Avg')\n",
    "for result in conv_summaryScores:\n",
    "    print(result[0],result[1],result[2])\n",
    "results.append({'differential_state':{'time': finalTime , 'scores':df_summaryScores}})"
   ]
  },
  {
   "cell_type": "code",
   "execution_count": 57,
   "metadata": {},
   "outputs": [
    {
     "data": {
      "image/png": "[encoded data removed]",
      "text/plain": [
       "<Figure size 432x288 with 1 Axes>"
      ]
     },
     "metadata": {},
     "output_type": "display_data"
    }
   ],
   "source": [
    "conv_avgs = [x[2] for x in conv_summaryScores]\n",
    "plt.plot(conv_avgs)\n",
    "plt.xlabel('Generation')\n",
    "plt.ylabel('Average Score')\n",
    "plt.show()"
   ]
  },
  {
   "cell_type": "code",
   "execution_count": 66,
   "metadata": {},
   "outputs": [
    {
     "ename": "NameError",
     "evalue": "name 'avgs' is not defined",
     "output_type": "error",
     "traceback": [
      "\u001b[0;31m---------------------------------------------------------------------------\u001b[0m",
      "\u001b[0;31mNameError\u001b[0m                                 Traceback (most recent call last)",
      "\u001b[0;32m<ipython-input-66-c95ece74fb9f>\u001b[0m in \u001b[0;36m<module>\u001b[0;34m()\u001b[0m\n\u001b[1;32m      1\u001b[0m \u001b[0;31m#plot them all!\u001b[0m\u001b[0;34m\u001b[0m\u001b[0;34m\u001b[0m\u001b[0m\n\u001b[0;32m----> 2\u001b[0;31m \u001b[0mplt\u001b[0m\u001b[0;34m.\u001b[0m\u001b[0mplot\u001b[0m\u001b[0;34m(\u001b[0m\u001b[0mavgs\u001b[0m\u001b[0;34m,\u001b[0m \u001b[0mlabel\u001b[0m \u001b[0;34m=\u001b[0m \u001b[0;34m'Default (red channel)'\u001b[0m\u001b[0;34m)\u001b[0m\u001b[0;34m\u001b[0m\u001b[0m\n\u001b[0m\u001b[1;32m      3\u001b[0m \u001b[0mplt\u001b[0m\u001b[0;34m.\u001b[0m\u001b[0mplot\u001b[0m\u001b[0;34m(\u001b[0m\u001b[0mpp_avgs\u001b[0m\u001b[0;34m,\u001b[0m \u001b[0mlabel\u001b[0m\u001b[0;34m=\u001b[0m\u001b[0;34m'condense and greyscale 1'\u001b[0m \u001b[0;34m)\u001b[0m\u001b[0;34m\u001b[0m\u001b[0m\n\u001b[1;32m      4\u001b[0m \u001b[0mplt\u001b[0m\u001b[0;34m.\u001b[0m\u001b[0mplot\u001b[0m\u001b[0;34m(\u001b[0m\u001b[0mpp2_avgs\u001b[0m\u001b[0;34m,\u001b[0m \u001b[0mlabel\u001b[0m\u001b[0;34m=\u001b[0m\u001b[0;34m'condense and greyscale 2'\u001b[0m\u001b[0;34m)\u001b[0m\u001b[0;34m\u001b[0m\u001b[0m\n\u001b[1;32m      5\u001b[0m \u001b[0mplt\u001b[0m\u001b[0;34m.\u001b[0m\u001b[0mplot\u001b[0m\u001b[0;34m(\u001b[0m\u001b[0mdf_avgs\u001b[0m\u001b[0;34m,\u001b[0m \u001b[0mlabel\u001b[0m\u001b[0;34m=\u001b[0m\u001b[0;34m'difference between frames'\u001b[0m\u001b[0;34m)\u001b[0m\u001b[0;34m\u001b[0m\u001b[0m\n",
      "\u001b[0;31mNameError\u001b[0m: name 'avgs' is not defined"
     ]
    }
   ],
   "source": [
    "#plot them all!\n",
    "plt.plot(avgs, label = 'Default (red channel)')\n",
    "plt.plot(pp_avgs, label='condense and greyscale 1' )\n",
    "plt.plot(pp2_avgs, label='condense and greyscale 2')\n",
    "plt.plot(df_avgs, label='difference between frames')\n",
    "plt.plot(conv_avgs, label='convolution')\n",
    "plt.xlabel('Average Score')\n",
    "plt.ylabel('Generation')\n",
    "plt.title('Comparative performance of preprocessing methods over 100 generations')\n",
    "leg = plt.legend(loc='best', ncol=2, mode=\"expand\", shadow=True, fancybox=True)\n",
    "leg.get_frame().set_alpha(0.5)\n",
    "plt.show()"
   ]
  },
  {
   "cell_type": "code",
   "execution_count": 78,
   "metadata": {},
   "outputs": [],
   "source": [
    "#Pickle the results to a file to save them.\n",
    "#To retrieve use pickle.load\n",
    "with open('results.txt', 'wb') as fp:\n",
    "    pickle.dump(results, fp)"
   ]
  }
 ],
 "metadata": {
  "kernelspec": {
   "display_name": "Python 3",
   "language": "python",
   "name": "python3"
  },
  "language_info": {
   "codemirror_mode": {
    "name": "ipython",
    "version": 3
   },
   "file_extension": ".py",
   "mimetype": "text/x-python",
   "name": "python",
   "nbconvert_exporter": "python",
   "pygments_lexer": "ipython3",
   "version": "3.6.3"
  }
 },
 "nbformat": 4,
 "nbformat_minor": 2
}
